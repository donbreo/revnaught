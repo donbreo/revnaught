{
 "cells": [
  {
   "cell_type": "code",
   "execution_count": 3,
   "metadata": {},
   "outputs": [],
   "source": [
    "import json\n",
    "import requests\n",
    "response = requests.get('https://www.quandl.com/api/v3/datasets/BSE/BOM533171.json')\n",
    "rawdata = json.loads(response.text) #puts raw json data into variable (dict type)\n",
    "data_serialized = json.dumps(rawdata) #dumps into json file (string format)\n",
    "alldata = rawdata['dataset'] #read only the dataset part in the dict\n",
    "alldata_list = alldata['data'] #gets only data in dataset"
   ]
  },
  {
   "cell_type": "code",
   "execution_count": 26,
   "metadata": {},
   "outputs": [],
   "source": [
    "##print(rawdata['dataset']['data'][0]) #print first element of data"
   ]
  },
  {
   "cell_type": "code",
   "execution_count": 5,
   "metadata": {},
   "outputs": [],
   "source": [
    "d={} ##init empty dict\n",
    "for i in rawdata['dataset']['data']: #traverse through rows of 2d list \n",
    "    if i[0] not in d.keys(): \n",
    "        d[i[0]] = [i[1],i[2],i[3],i[4],i[5],i[6]] ## take\n",
    "        \n",
    "##created a function fmat2dict for this."
   ]
  },
  {
   "cell_type": "code",
   "execution_count": 6,
   "metadata": {},
   "outputs": [],
   "source": [
    "### key = \"this is the key\"\n",
    "### value = [\"value\",1,2,3,4.5]\n",
    "### dict = {key:value}\n",
    "### print(dict)"
   ]
  },
  {
   "cell_type": "code",
   "execution_count": 7,
   "metadata": {},
   "outputs": [
    {
     "name": "stdout",
     "output_type": "stream",
     "text": [
      "['2019-12-03', 8.95, 9.0, 8.8, 8.85, 8.89, 30871.0, 78.0, 274511.0, 16057.0, 52.01, 0.2, -0.1]\n"
     ]
    }
   ],
   "source": [
    "x=(rawdata['dataset']['data'][0])\n",
    "print(x)"
   ]
  },
  {
   "cell_type": "code",
   "execution_count": 8,
   "metadata": {},
   "outputs": [
    {
     "name": "stdout",
     "output_type": "stream",
     "text": [
      "13\n",
      "['2019-12-03', 8.95, 9.0, 8.8, 8.85, 8.89, 30871.0, 78.0, 274511.0, 16057.0, 52.01, 0.2, -0.1]\n"
     ]
    }
   ],
   "source": [
    "print(len(x))\n",
    "print(x[0:13])"
   ]
  },
  {
   "cell_type": "code",
   "execution_count": 9,
   "metadata": {},
   "outputs": [],
   "source": [
    "def fmat2dict(y): #funtion to format the data from list to dict\n",
    "    return {y[0]:y[1:len(y)]}"
   ]
  },
  {
   "cell_type": "code",
   "execution_count": 10,
   "metadata": {},
   "outputs": [
    {
     "name": "stdout",
     "output_type": "stream",
     "text": [
      "{'2019-12-03': [8.95, 9.0, 8.8, 8.85, 8.89, 30871.0, 78.0, 274511.0, 16057.0, 52.01, 0.2, -0.1]}\n"
     ]
    }
   ],
   "source": [
    "print({x[0]:x[1:13]})"
   ]
  },
  {
   "cell_type": "code",
   "execution_count": 11,
   "metadata": {},
   "outputs": [
    {
     "name": "stdout",
     "output_type": "stream",
     "text": [
      "{'2019-12-03': [8.95, 9.0, 8.8, 8.85, 8.89, 30871.0, 78.0, 274511.0, 16057.0, 52.01, 0.2, -0.1]}\n"
     ]
    }
   ],
   "source": [
    "dict1 = fmat2dict(x)\n",
    "print(dict1)"
   ]
  },
  {
   "cell_type": "code",
   "execution_count": 12,
   "metadata": {},
   "outputs": [
    {
     "name": "stdout",
     "output_type": "stream",
     "text": [
      "2019-12-03 [8.95, 9.0, 8.8, 8.85, 8.89, 30871.0, 78.0, 274511.0, 16057.0, 52.01, 0.2, -0.1]\n"
     ]
    }
   ],
   "source": [
    "for k, v in dict1.items():\n",
    "    print(k, v)"
   ]
  },
  {
   "cell_type": "code",
   "execution_count": 13,
   "metadata": {},
   "outputs": [],
   "source": [
    "dict1.update({'2019-12-04': [8.95, 9.0, 8.8, 8.85, 8.89, 30871.0, 78.0, 274511.0, 16057.0, 52.01, 0.2, -0.1]})"
   ]
  },
  {
   "cell_type": "code",
   "execution_count": 14,
   "metadata": {},
   "outputs": [
    {
     "name": "stdout",
     "output_type": "stream",
     "text": [
      "{'2019-12-03': [8.95, 9.0, 8.8, 8.85, 8.89, 30871.0, 78.0, 274511.0, 16057.0, 52.01, 0.2, -0.1], '2019-12-04': [8.95, 9.0, 8.8, 8.85, 8.89, 30871.0, 78.0, 274511.0, 16057.0, 52.01, 0.2, -0.1]}\n"
     ]
    }
   ],
   "source": [
    "print(dict1)"
   ]
  },
  {
   "cell_type": "code",
   "execution_count": 15,
   "metadata": {},
   "outputs": [
    {
     "name": "stdout",
     "output_type": "stream",
     "text": [
      "1\n",
      "3\n",
      "2\n",
      "4\n"
     ]
    }
   ],
   "source": [
    "nested_list = [ [1, 2], [3, 4] ]\n",
    "outer_range = range(len(nested_list))\n",
    "\n",
    "for i in outer_range:\n",
    "    inner_range = range(len(nested_list[i]))\n",
    "    for j in inner_range:\n",
    "        print(nested_list[j][i])"
   ]
  },
  {
   "cell_type": "code",
   "execution_count": 18,
   "metadata": {},
   "outputs": [
    {
     "name": "stdout",
     "output_type": "stream",
     "text": [
      "['2019-12-03', 8.95, 9.0, 8.8, 8.85, 8.89, 30871.0, 78.0, 274511.0, 16057.0, 52.01, 0.2, -0.1]\n"
     ]
    }
   ],
   "source": [
    "print(alldata_list[0])"
   ]
  },
  {
   "cell_type": "code",
   "execution_count": 19,
   "metadata": {},
   "outputs": [
    {
     "name": "stdout",
     "output_type": "stream",
     "text": [
      "range(0, 2408)\n"
     ]
    }
   ],
   "source": [
    "print(range(len(alldata_list)))"
   ]
  },
  {
   "cell_type": "code",
   "execution_count": 30,
   "metadata": {},
   "outputs": [],
   "source": [
    "tdfl={}\n",
    "for i in range(len(alldata_list)):\n",
    "    tdfl.update(fmat2dict(alldata_list[i]))"
   ]
  },
  {
   "cell_type": "code",
   "execution_count": 36,
   "metadata": {},
   "outputs": [],
   "source": [
    "## converts a list to dictionary\n",
    "## first element of the list element is the key\n",
    "def list2dict(list1):\n",
    "    initd={}\n",
    "    for i in range(len(list1)):\n",
    "        initd.update(fmat2dict(list1[i]))\n",
    "    return initd\n"
   ]
  },
  {
   "cell_type": "code",
   "execution_count": 1,
   "metadata": {},
   "outputs": [],
   "source": [
    "import revnaught as rv"
   ]
  },
  {
   "cell_type": "code",
   "execution_count": 2,
   "metadata": {},
   "outputs": [
    {
     "data": {
      "text/plain": [
       "dict"
      ]
     },
     "execution_count": 2,
     "metadata": {},
     "output_type": "execute_result"
    }
   ],
   "source": [
    "type(rv.list2dict((rv.req2dict(\"BOM533171\"))))"
   ]
  },
  {
   "cell_type": "code",
   "execution_count": null,
   "metadata": {},
   "outputs": [],
   "source": []
  }
 ],
 "metadata": {
  "kernelspec": {
   "display_name": "Python 3",
   "language": "python",
   "name": "python3"
  },
  "language_info": {
   "codemirror_mode": {
    "name": "ipython",
    "version": 3
   },
   "file_extension": ".py",
   "mimetype": "text/x-python",
   "name": "python",
   "nbconvert_exporter": "python",
   "pygments_lexer": "ipython3",
   "version": "3.7.3"
  }
 },
 "nbformat": 4,
 "nbformat_minor": 2
}

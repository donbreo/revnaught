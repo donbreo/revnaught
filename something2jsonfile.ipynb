{
 "cells": [
  {
   "cell_type": "code",
   "execution_count": 8,
   "metadata": {},
   "outputs": [],
   "source": [
    "## lets just import and write to a file here\n",
    "import json\n",
    "import requests\n",
    "response = requests.get('https://www.quandl.com/api/v3/datasets/BSE/BOM533171.json')\n",
    "rawdata = json.loads(response.text) #puts raw json data into variable (dict type)\n",
    "#https://pythonspot.com/save-a-dictionary-to-a-file/\n",
    "data_serialized = json.dumps(rawdata) #dict to string\n",
    "f = open(\"dict1.json\",\"w\") #open and write to a file.\n",
    "f.write(data_serialized)\n",
    "f.close()"
   ]
  },
  {
   "cell_type": "code",
   "execution_count": null,
   "metadata": {},
   "outputs": [],
   "source": [
    "## Lets create a function for this now\n",
    "\n"
   ]
  },
  {
   "cell_type": "code",
   "execution_count": null,
   "metadata": {},
   "outputs": [],
   "source": []
  }
 ],
 "metadata": {
  "kernelspec": {
   "display_name": "Python 3",
   "language": "python",
   "name": "python3"
  },
  "language_info": {
   "codemirror_mode": {
    "name": "ipython",
    "version": 3
   },
   "file_extension": ".py",
   "mimetype": "text/x-python",
   "name": "python",
   "nbconvert_exporter": "python",
   "pygments_lexer": "ipython3",
   "version": "3.7.3"
  }
 },
 "nbformat": 4,
 "nbformat_minor": 2
}

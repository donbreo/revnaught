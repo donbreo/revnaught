{
 "cells": [
  {
   "cell_type": "code",
   "execution_count": 24,
   "metadata": {},
   "outputs": [],
   "source": [
    "import json\n",
    "import requests\n",
    "response = requests.get('https://www.quandl.com/api/v3/datasets/BSE/BOM533171.json')\n",
    "rawdata = json.loads(response.text) #puts raw json data into variable (dict type)\n",
    "data_serialized = json.dumps(rdata) #dumps into json file (string format)\n",
    "alldata = rawdata['dataset'] #read only the dataset part in the dict\n",
    "alldata_list = alldata['data']"
   ]
  },
  {
   "cell_type": "code",
   "execution_count": 27,
   "metadata": {},
   "outputs": [
    {
     "name": "stdout",
     "output_type": "stream",
     "text": [
      "['2019-11-28', 9.07, 9.3, 8.98, 9.17, 9.18, 72000.0, 127.0, 660740.0, 31051.0, 43.13, 0.32, 0.1]\n"
     ]
    }
   ],
   "source": [
    "print(rawdata['dataset']['data'][0])"
   ]
  },
  {
   "cell_type": "code",
   "execution_count": null,
   "metadata": {},
   "outputs": [],
   "source": []
  },
  {
   "cell_type": "code",
   "execution_count": null,
   "metadata": {},
   "outputs": [],
   "source": []
  }
 ],
 "metadata": {
  "kernelspec": {
   "display_name": "Python 3",
   "language": "python",
   "name": "python3"
  },
  "language_info": {
   "codemirror_mode": {
    "name": "ipython",
    "version": 3
   },
   "file_extension": ".py",
   "mimetype": "text/x-python",
   "name": "python",
   "nbconvert_exporter": "python",
   "pygments_lexer": "ipython3",
   "version": "3.7.3"
  }
 },
 "nbformat": 4,
 "nbformat_minor": 2
}

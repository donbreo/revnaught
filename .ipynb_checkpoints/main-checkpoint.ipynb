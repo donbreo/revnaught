{
 "cells": [
  {
   "cell_type": "code",
   "execution_count": 1,
   "metadata": {},
   "outputs": [],
   "source": [
    "import json\n",
    "import requests\n",
    "response = requests.get('https://www.quandl.com/api/v3/datasets/BSE/BOM533171.json')\n",
    "rawdata = json.loads(response.text) #puts raw json data into variable (dict type)\n",
    "data_serialized = json.dumps(rawdata) #dumps into json file (string format)\n",
    "alldata = rawdata['dataset'] #read only the dataset part in the dict\n",
    "alldata_list = alldata['data'] #gets only data in dataset"
   ]
  },
  {
   "cell_type": "code",
   "execution_count": 2,
   "metadata": {},
   "outputs": [],
   "source": [
    "##print(rawdata['dataset']['data'][0]) #print first element of data"
   ]
  },
  {
   "cell_type": "code",
   "execution_count": 18,
   "metadata": {},
   "outputs": [],
   "source": [
    "d={} ##init empty dict\n",
    "for i in rawdata['dataset']['data']: #traverse through rows of 2d list \n",
    "    if i[0] not in d.keys(): \n",
    "        d[i[0]] = [i[1],i[2],i[3],i[4],i[5],i[6]] ## take\n",
    "        \n",
    "##created a function fmat2dict for this."
   ]
  },
  {
   "cell_type": "code",
   "execution_count": 4,
   "metadata": {},
   "outputs": [],
   "source": [
    "### key = \"this is the key\"\n",
    "### value = [\"value\",1,2,3,4.5]\n",
    "### dict = {key:value}\n",
    "### print(dict)"
   ]
  },
  {
   "cell_type": "code",
   "execution_count": 9,
   "metadata": {},
   "outputs": [
    {
     "name": "stdout",
     "output_type": "stream",
     "text": [
      "['2019-12-02', 9.13, 9.16, 9.01, 9.09, 9.05, 17951.0, 124.0, 162397.0, 10319.0, 57.48, 0.15, -0.04]\n"
     ]
    }
   ],
   "source": [
    "x=(rawdata['dataset']['data'][0])\n",
    "print(x)"
   ]
  },
  {
   "cell_type": "code",
   "execution_count": 12,
   "metadata": {},
   "outputs": [
    {
     "name": "stdout",
     "output_type": "stream",
     "text": [
      "13\n",
      "['2019-12-02', 9.13, 9.16, 9.01, 9.09, 9.05, 17951.0, 124.0, 162397.0, 10319.0, 57.48, 0.15, -0.04]\n"
     ]
    }
   ],
   "source": [
    "print(len(x))\n",
    "print(x[0:13])"
   ]
  },
  {
   "cell_type": "code",
   "execution_count": 19,
   "metadata": {},
   "outputs": [],
   "source": [
    "def fmat2dict(y): #funtion to format the data from list to dict\n",
    "    return {y[0]:y[1:len(y)]}"
   ]
  },
  {
   "cell_type": "code",
   "execution_count": 15,
   "metadata": {},
   "outputs": [
    {
     "name": "stdout",
     "output_type": "stream",
     "text": [
      "{'2019-12-02': [9.13, 9.16, 9.01, 9.09, 9.05, 17951.0, 124.0, 162397.0, 10319.0, 57.48, 0.15, -0.04]}\n"
     ]
    }
   ],
   "source": [
    "print({x[0]:x[1:13]})"
   ]
  },
  {
   "cell_type": "code",
   "execution_count": 20,
   "metadata": {},
   "outputs": [
    {
     "name": "stdout",
     "output_type": "stream",
     "text": [
      "{'2019-12-02': [9.13, 9.16, 9.01, 9.09, 9.05, 17951.0, 124.0, 162397.0, 10319.0, 57.48, 0.15, -0.04]}\n"
     ]
    }
   ],
   "source": [
    "print(fmat2dict(x))"
   ]
  },
  {
   "cell_type": "code",
   "execution_count": null,
   "metadata": {},
   "outputs": [],
   "source": []
  }
 ],
 "metadata": {
  "kernelspec": {
   "display_name": "Python 3",
   "language": "python",
   "name": "python3"
  },
  "language_info": {
   "codemirror_mode": {
    "name": "ipython",
    "version": 3
   },
   "file_extension": ".py",
   "mimetype": "text/x-python",
   "name": "python",
   "nbconvert_exporter": "python",
   "pygments_lexer": "ipython3",
   "version": "3.7.3"
  }
 },
 "nbformat": 4,
 "nbformat_minor": 2
}
